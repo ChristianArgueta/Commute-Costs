{
 "cells": [
  {
   "cell_type": "code",
   "execution_count": 4,
   "id": "e3bdfb57-cbb5-4d77-86d7-1d4a91e4ab84",
   "metadata": {},
   "outputs": [],
   "source": [
    "import matplotlib.pyplot as plt\n",
    "import numpy as np"
   ]
  },
  {
   "cell_type": "code",
   "execution_count": null,
   "id": "a57b42c6-913c-4d34-9aa1-62751f6ea3f3",
   "metadata": {},
   "outputs": [],
   "source": [
    "# Input values\n",
    "miles_per_week = 15"
   ]
  },
  {
   "cell_type": "code",
   "execution_count": null,
   "id": "8a81b8c7-9d9b-4136-a04b-18e51e9c72ec",
   "metadata": {},
   "outputs": [],
   "source": [
    "# --- Your Honda Accord ---\n",
    "accord_mpg = 30\n",
    "gas_price_accord = 2.50\n",
    "maintenance_cost_per_mile = 0.14\n",
    "tire_cost_per_mile = 0.01   # Goodyear Assurance estimate\n",
    "total_cost_per_mile_accord = maintenance_cost_per_mile + tire_cost_per_mile\n",
    "\n",
    "# --- Work Truck ---\n",
    "truck_mileage_charge_per_mile = 0.25\n"
   ]
  },
  {
   "cell_type": "code",
   "execution_count": null,
   "id": "816dd415-5f25-4581-bdf4-2b55f0b55619",
   "metadata": {},
   "outputs": [],
   "source": [
    "## Honda Accord costs\n",
    "accord_gallons_per_week = miles_per_week / accord_mpg\n",
    "accord_fuel_cost_weekly = accord_gallons_per_week * gas_price_accord\n",
    "accord_maintenance_cost_weekly = miles_per_week * total_cost_per_mile_accord\n",
    "accord_total_weekly = accord_fuel_cost_weekly + accord_maintenance_cost_weekly\n",
    "accord_monthly = accord_total_weekly * 4.33\n",
    "accord_annual = accord_total_weekly * 52\n"
   ]
  },
  {
   "cell_type": "code",
   "execution_count": null,
   "id": "c392d57a-b5a7-46ed-a32f-87ac8a46fca9",
   "metadata": {},
   "outputs": [],
   "source": [
    "## Truck costs\n",
    "truck_total_weekly = miles_per_week * truck_mileage_charge_per_mile\n",
    "truck_monthly = truck_total_weekly * 4.33\n",
    "truck_annual = truck_total_weekly * 52"
   ]
  }
 ],
 "metadata": {
  "kernelspec": {
   "display_name": "Python 3 (ipykernel)",
   "language": "python",
   "name": "python3"
  },
  "language_info": {
   "codemirror_mode": {
    "name": "ipython",
    "version": 3
   },
   "file_extension": ".py",
   "mimetype": "text/x-python",
   "name": "python",
   "nbconvert_exporter": "python",
   "pygments_lexer": "ipython3",
   "version": "3.12.4"
  }
 },
 "nbformat": 4,
 "nbformat_minor": 5
}
